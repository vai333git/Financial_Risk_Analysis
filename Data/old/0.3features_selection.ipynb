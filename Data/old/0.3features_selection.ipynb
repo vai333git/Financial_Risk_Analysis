{
 "cells": [
  {
   "cell_type": "code",
   "execution_count": 1,
   "id": "3e7d3e2c",
   "metadata": {},
   "outputs": [],
   "source": [
    "import pandas as pd\n",
    "import numpy as np\n",
    "\n",
    "import re\n",
    "\n",
    "import matplotlib.pyplot as plt\n",
    "import seaborn as sns\n",
    "\n",
    "from sklearn.model_selection import train_test_split\n",
    "from sklearn.metrics import accuracy_score, precision_score, recall_score, confusion_matrix, precision_recall_curve\n",
    "from catboost import Pool, CatBoostClassifier\n",
    "\n",
    "from scipy.stats import pearsonr, chi2_contingency\n",
    "from itertools import combinations\n",
    "from statsmodels.stats.proportion import proportion_confint\n",
    "\n",
    "import seaborn as sns\n",
    "import matplotlib.pyplot as plt"
   ]
  },
  {
   "cell_type": "code",
   "execution_count": 2,
   "id": "9db2838e",
   "metadata": {
    "scrolled": true
   },
   "outputs": [
    {
     "name": "stderr",
     "output_type": "stream",
     "text": [
      "/var/folders/7h/c6w5g6f51h51f33hk5zh_dkw0000gn/T/ipykernel_1221/1274077888.py:1: DtypeWarning: Columns (0,19,49,59,118,129,130,131,134,135,136,139,145,146,147) have mixed types. Specify dtype option on import or set low_memory=False.\n",
      "  df_acc = pd.read_csv('accepted.csv')\n"
     ]
    }
   ],
   "source": [
    "df_acc = pd.read_csv('accepted.csv')"
   ]
  },
  {
   "cell_type": "code",
   "execution_count": 3,
   "id": "50d08a18",
   "metadata": {},
   "outputs": [],
   "source": [
    "# col_all = ['id',\n",
    "#  'member_id',\n",
    "#  'loan_amnt',\n",
    "#  'funded_amnt',\n",
    "#  'funded_amnt_inv',\n",
    "#  'term',\n",
    "#  'int_rate',\n",
    "#  'installment',\n",
    "#  'grade',\n",
    "#  'sub_grade',\n",
    "#  'emp_title',\n",
    "#  'emp_length',\n",
    "#  'home_ownership',\n",
    "#  'annual_inc',\n",
    "#  'verification_status',\n",
    "#  'issue_d',\n",
    "#  'loan_status',\n",
    "#  'pymnt_plan',\n",
    "#  'url',\n",
    "#  'desc',\n",
    "#  'purpose',\n",
    "#  'title',\n",
    "#  'zip_code',\n",
    "#  'addr_state',\n",
    "#  'dti',\n",
    "#  'delinq_2yrs',\n",
    "#  'earliest_cr_line',\n",
    "#  'fico_range_low',\n",
    "#  'fico_range_high',\n",
    "#  'inq_last_6mths',\n",
    "#  'mths_since_last_delinq',\n",
    "#  'mths_since_last_record',\n",
    "#  'open_acc',\n",
    "#  'pub_rec',\n",
    "#  'revol_bal',\n",
    "#  'revol_util',\n",
    "#  'total_acc',\n",
    "#  'initial_list_status',\n",
    "#  'out_prncp',\n",
    "#  'out_prncp_inv',\n",
    "#  'total_pymnt',\n",
    "#  'total_pymnt_inv',\n",
    "#  'total_rec_prncp',\n",
    "#  'total_rec_int',\n",
    "#  'total_rec_late_fee',\n",
    "#  'recoveries',\n",
    "#  'collection_recovery_fee',\n",
    "#  'last_pymnt_d',\n",
    "#  'last_pymnt_amnt',\n",
    "#  'next_pymnt_d',\n",
    "#  'last_credit_pull_d',\n",
    "#  'last_fico_range_high',\n",
    "#  'last_fico_range_low',\n",
    "#  'collections_12_mths_ex_med',\n",
    "#  'mths_since_last_major_derog',\n",
    "#  'policy_code',\n",
    "#  'application_type',\n",
    "#  'annual_inc_joint',\n",
    "#  'dti_joint',\n",
    "#  'verification_status_joint',\n",
    "#  'acc_now_delinq',\n",
    "#  'tot_coll_amt',\n",
    "#  'tot_cur_bal',\n",
    "#  'open_acc_6m',\n",
    "#  'open_act_il',\n",
    "#  'open_il_12m',\n",
    "#  'open_il_24m',\n",
    "#  'mths_since_rcnt_il',\n",
    "#  'total_bal_il',\n",
    "#  'il_util',\n",
    "#  'open_rv_12m',\n",
    "#  'open_rv_24m',\n",
    "#  'max_bal_bc',\n",
    "#  'all_util',\n",
    "#  'total_rev_hi_lim',\n",
    "#  'inq_fi',\n",
    "#  'total_cu_tl',\n",
    "#  'inq_last_12m',\n",
    "#  'acc_open_past_24mths',\n",
    "#  'avg_cur_bal',\n",
    "#  'bc_open_to_buy',\n",
    "#  'bc_util',\n",
    "#  'chargeoff_within_12_mths',\n",
    "#  'delinq_amnt',\n",
    "#  'mo_sin_old_il_acct',\n",
    "#  'mo_sin_old_rev_tl_op',\n",
    "#  'mo_sin_rcnt_rev_tl_op',\n",
    "#  'mo_sin_rcnt_tl',\n",
    "#  'mort_acc',\n",
    "#  'mths_since_recent_bc',\n",
    "#  'mths_since_recent_bc_dlq',\n",
    "#  'mths_since_recent_inq',\n",
    "#  'mths_since_recent_revol_delinq',\n",
    "#  'num_accts_ever_120_pd',\n",
    "#  'num_actv_bc_tl',\n",
    "#  'num_actv_rev_tl',\n",
    "#  'num_bc_sats',\n",
    "#  'num_bc_tl',\n",
    "#  'num_il_tl',\n",
    "#  'num_op_rev_tl',\n",
    "#  'num_rev_accts',\n",
    "#  'num_rev_tl_bal_gt_0',\n",
    "#  'num_sats',\n",
    "#  'num_tl_120dpd_2m',\n",
    "#  'num_tl_30dpd',\n",
    "#  'num_tl_90g_dpd_24m',\n",
    "#  'num_tl_op_past_12m',\n",
    "#  'pct_tl_nvr_dlq',\n",
    "#  'percent_bc_gt_75',\n",
    "#  'pub_rec_bankruptcies',\n",
    "#  'tax_liens',\n",
    "#  'tot_hi_cred_lim',\n",
    "#  'total_bal_ex_mort',\n",
    "#  'total_bc_limit',\n",
    "#  'total_il_high_credit_limit',\n",
    "#  'revol_bal_joint',\n",
    "#  'sec_app_fico_range_low',\n",
    "#  'sec_app_fico_range_high',\n",
    "#  'sec_app_earliest_cr_line',\n",
    "#  'sec_app_inq_last_6mths',\n",
    "#  'sec_app_mort_acc',\n",
    "#  'sec_app_open_acc',\n",
    "#  'sec_app_revol_util',\n",
    "#  'sec_app_open_act_il',\n",
    "#  'sec_app_num_rev_accts',\n",
    "#  'sec_app_chargeoff_within_12_mths',\n",
    "#  'sec_app_collections_12_mths_ex_med',\n",
    "#  'sec_app_mths_since_last_major_derog',\n",
    "#  'hardship_flag',\n",
    "#  'hardship_type',\n",
    "#  'hardship_reason',\n",
    "#  'hardship_status',\n",
    "#  'deferral_term',\n",
    "#  'hardship_amount',\n",
    "#  'hardship_start_date',\n",
    "#  'hardship_end_date',\n",
    "#  'payment_plan_start_date',\n",
    "#  'hardship_length',\n",
    "#  'hardship_dpd',\n",
    "#  'hardship_loan_status',\n",
    "#  'orig_projected_additional_accrued_interest',\n",
    "#  'hardship_payoff_balance_amount',\n",
    "#  'hardship_last_payment_amount',\n",
    "#  'disbursement_method',\n",
    "#  'debt_settlement_flag',\n",
    "#  'debt_settlement_flag_date',\n",
    "#  'settlement_status',\n",
    "#  'settlement_date',\n",
    "#  'settlement_amount',\n",
    "#  'settlement_percentage',\n",
    "#  'settlement_term']\n",
    "# print(col_all)\n",
    "# print(len(col_all))"
   ]
  },
  {
   "cell_type": "code",
   "execution_count": 9,
   "id": "65adfeb6",
   "metadata": {},
   "outputs": [
    {
     "name": "stdout",
     "output_type": "stream",
     "text": [
      "['id', 'member_id', 'loan_amnt', 'funded_amnt', 'funded_amnt_inv', 'term', 'int_rate', 'installment', 'grade', 'sub_grade', 'emp_title', 'emp_length', 'home_ownership', 'annual_inc', 'verification_status', 'issue_d', 'loan_status', 'pymnt_plan', 'url', 'desc', 'purpose', 'title', 'zip_code', 'addr_state', 'dti', 'delinq_2yrs', 'earliest_cr_line', 'fico_range_low', 'fico_range_high', 'inq_last_6mths', 'mths_since_last_delinq', 'mths_since_last_record', 'open_acc', 'pub_rec', 'revol_bal', 'revol_util', 'total_acc', 'initial_list_status', 'out_prncp', 'out_prncp_inv', 'total_pymnt', 'total_pymnt_inv', 'total_rec_prncp', 'total_rec_int', 'total_rec_late_fee', 'recoveries', 'collection_recovery_fee', 'last_pymnt_d', 'last_pymnt_amnt', 'next_pymnt_d', 'last_credit_pull_d', 'last_fico_range_high', 'last_fico_range_low', 'collections_12_mths_ex_med', 'mths_since_last_major_derog', 'policy_code', 'application_type', 'annual_inc_joint', 'dti_joint', 'verification_status_joint', 'acc_now_delinq', 'tot_coll_amt', 'tot_cur_bal', 'open_acc_6m', 'open_act_il', 'open_il_12m', 'open_il_24m', 'mths_since_rcnt_il', 'total_bal_il', 'il_util', 'open_rv_12m', 'open_rv_24m', 'max_bal_bc', 'all_util', 'total_rev_hi_lim', 'inq_fi', 'total_cu_tl', 'inq_last_12m', 'acc_open_past_24mths', 'avg_cur_bal', 'bc_open_to_buy', 'bc_util', 'chargeoff_within_12_mths', 'delinq_amnt', 'mo_sin_old_il_acct', 'mo_sin_old_rev_tl_op', 'mo_sin_rcnt_rev_tl_op', 'mo_sin_rcnt_tl', 'mort_acc', 'mths_since_recent_bc', 'mths_since_recent_bc_dlq', 'mths_since_recent_inq', 'mths_since_recent_revol_delinq', 'num_accts_ever_120_pd', 'num_actv_bc_tl', 'num_actv_rev_tl', 'num_bc_sats', 'num_bc_tl', 'num_il_tl', 'num_op_rev_tl', 'num_rev_accts', 'num_rev_tl_bal_gt_0', 'num_sats', 'num_tl_120dpd_2m', 'num_tl_30dpd', 'num_tl_90g_dpd_24m', 'num_tl_op_past_12m', 'pct_tl_nvr_dlq', 'percent_bc_gt_75', 'pub_rec_bankruptcies', 'tax_liens', 'tot_hi_cred_lim', 'total_bal_ex_mort', 'total_bc_limit', 'total_il_high_credit_limit', 'revol_bal_joint', 'sec_app_fico_range_low', 'sec_app_fico_range_high', 'sec_app_earliest_cr_line', 'sec_app_inq_last_6mths', 'sec_app_mort_acc', 'sec_app_open_acc', 'sec_app_revol_util', 'sec_app_open_act_il', 'sec_app_num_rev_accts', 'sec_app_chargeoff_within_12_mths', 'sec_app_collections_12_mths_ex_med', 'sec_app_mths_since_last_major_derog', 'hardship_flag', 'hardship_type', 'hardship_reason', 'hardship_status', 'deferral_term', 'hardship_amount', 'hardship_start_date', 'hardship_end_date', 'payment_plan_start_date', 'hardship_length', 'hardship_dpd', 'hardship_loan_status', 'orig_projected_additional_accrued_interest', 'hardship_payoff_balance_amount', 'hardship_last_payment_amount', 'disbursement_method', 'debt_settlement_flag', 'debt_settlement_flag_date', 'settlement_status', 'settlement_date', 'settlement_amount', 'settlement_percentage', 'settlement_term']\n",
      "151\n"
     ]
    }
   ],
   "source": [
    "columns_all = ['id', 'member_id', 'loan_amnt', 'funded_amnt', 'funded_amnt_inv', 'term', 'int_rate', 'installment', 'grade', 'sub_grade', 'emp_title', 'emp_length', 'home_ownership', 'annual_inc', 'verification_status', 'issue_d', 'loan_status', 'pymnt_plan', 'url', 'desc', 'purpose', 'title', 'zip_code', 'addr_state', 'dti', 'delinq_2yrs', 'earliest_cr_line', 'fico_range_low', 'fico_range_high', 'inq_last_6mths', 'mths_since_last_delinq', 'mths_since_last_record', 'open_acc', 'pub_rec', 'revol_bal', 'revol_util', 'total_acc', 'initial_list_status', 'out_prncp', 'out_prncp_inv', 'total_pymnt', 'total_pymnt_inv', 'total_rec_prncp', 'total_rec_int', 'total_rec_late_fee', 'recoveries', 'collection_recovery_fee', 'last_pymnt_d', 'last_pymnt_amnt', 'next_pymnt_d', 'last_credit_pull_d', 'last_fico_range_high', 'last_fico_range_low', 'collections_12_mths_ex_med', 'mths_since_last_major_derog', 'policy_code', 'application_type', 'annual_inc_joint', 'dti_joint', 'verification_status_joint', 'acc_now_delinq', 'tot_coll_amt', 'tot_cur_bal', 'open_acc_6m', 'open_act_il', 'open_il_12m', 'open_il_24m', 'mths_since_rcnt_il', 'total_bal_il', 'il_util', 'open_rv_12m', 'open_rv_24m', 'max_bal_bc', 'all_util', 'total_rev_hi_lim', 'inq_fi', 'total_cu_tl', 'inq_last_12m', 'acc_open_past_24mths', 'avg_cur_bal', 'bc_open_to_buy', 'bc_util', 'chargeoff_within_12_mths', 'delinq_amnt', 'mo_sin_old_il_acct', 'mo_sin_old_rev_tl_op', 'mo_sin_rcnt_rev_tl_op', 'mo_sin_rcnt_tl', 'mort_acc', 'mths_since_recent_bc', 'mths_since_recent_bc_dlq', 'mths_since_recent_inq', 'mths_since_recent_revol_delinq', 'num_accts_ever_120_pd', 'num_actv_bc_tl', 'num_actv_rev_tl', 'num_bc_sats', 'num_bc_tl', 'num_il_tl', 'num_op_rev_tl', 'num_rev_accts', 'num_rev_tl_bal_gt_0', 'num_sats', 'num_tl_120dpd_2m', 'num_tl_30dpd', 'num_tl_90g_dpd_24m', 'num_tl_op_past_12m', 'pct_tl_nvr_dlq', 'percent_bc_gt_75', 'pub_rec_bankruptcies', 'tax_liens', 'tot_hi_cred_lim', 'total_bal_ex_mort', 'total_bc_limit', 'total_il_high_credit_limit', 'revol_bal_joint', 'sec_app_fico_range_low', 'sec_app_fico_range_high', 'sec_app_earliest_cr_line', 'sec_app_inq_last_6mths', 'sec_app_mort_acc', 'sec_app_open_acc', 'sec_app_revol_util', 'sec_app_open_act_il', 'sec_app_num_rev_accts', 'sec_app_chargeoff_within_12_mths', 'sec_app_collections_12_mths_ex_med', 'sec_app_mths_since_last_major_derog', 'hardship_flag', 'hardship_type', 'hardship_reason', 'hardship_status', 'deferral_term', 'hardship_amount', 'hardship_start_date', 'hardship_end_date', 'payment_plan_start_date', 'hardship_length', 'hardship_dpd', 'hardship_loan_status', 'orig_projected_additional_accrued_interest', 'hardship_payoff_balance_amount', 'hardship_last_payment_amount', 'disbursement_method', 'debt_settlement_flag', 'debt_settlement_flag_date', 'settlement_status', 'settlement_date', 'settlement_amount', 'settlement_percentage', 'settlement_term']\n",
    "print(columns_all)\n",
    "print(len(columns_all))"
   ]
  },
  {
   "cell_type": "code",
   "execution_count": 5,
   "id": "ae5bb158",
   "metadata": {},
   "outputs": [
    {
     "name": "stdout",
     "output_type": "stream",
     "text": [
      "['loan_amnt', 'funded_amnt', 'funded_amnt_inv', 'term', 'int_rate', 'installment', 'grade', 'sub_grade', 'emp_title', 'emp_length', 'home_ownership', 'annual_inc', 'verification_status', 'purpose', 'zip_code', 'addr_state', 'fico_range_low', 'fico_range_high', 'inq_last_6mths', 'pub_rec', 'revol_bal', 'total_acc', 'total_pymnt', 'recoveries', 'last_pymnt_d', 'last_pymnt_amnt', 'last_credit_pull_d', 'last_fico_range_high', 'last_fico_range_low', 'policy_code', 'application_type', 'verification_status_joint', 'tot_coll_amt', 'tot_cur_bal', 'pub_rec_bankruptcies', 'debt_settlement_flag', 'debt_settlement_flag_date']\n",
      "37\n"
     ]
    }
   ],
   "source": [
    "columns_list = ['loan_amnt','funded_amnt','funded_amnt_inv','term','int_rate','installment','grade','sub_grade',\n",
    "'emp_title','emp_length','home_ownership','annual_inc','verification_status','purpose','zip_code',\n",
    "'addr_state','fico_range_low','fico_range_high','inq_last_6mths','pub_rec','revol_bal','total_acc',\n",
    "'total_pymnt','recoveries','last_pymnt_d','last_pymnt_amnt','last_credit_pull_d',\n",
    "'last_fico_range_high','last_fico_range_low','policy_code','application_type','verification_status_joint',\n",
    "'tot_coll_amt','tot_cur_bal','pub_rec_bankruptcies','debt_settlement_flag','debt_settlement_flag_date',\n",
    "\n",
    "]\n",
    "print(columns_list)\n",
    "print(len(columns_list))"
   ]
  },
  {
   "cell_type": "code",
   "execution_count": 7,
   "id": "f9ebfefd",
   "metadata": {
    "scrolled": true
   },
   "outputs": [
    {
     "data": {
      "text/plain": [
       "53"
      ]
     },
     "execution_count": 7,
     "metadata": {},
     "output_type": "execute_result"
    }
   ],
   "source": [
    "col_list_jovain = ['loan_amnt','funded_amnt','funded_amnt_inv','term','int_rate','installment','grade'\n",
    ",'sub_grade','emp_title','emp_length','home_ownership','annual_inc','verification_status'\n",
    ",'issue_d','loan_status','pymnt_plan','desc','purpose','title','zip_code','addr_state'\n",
    ",'dti','delinq_2yrs','earliest_cr_line','inq_last_6mths','open_acc','pub_rec','revol_bal'\n",
    ",'revol_util','total_acc','initial_list_status','out_prncp','out_prncp_inv','total_pymnt'\n",
    ",'total_pymnt_inv','total_rec_prncp','total_rec_int','total_rec_late_fee','recoveries'\n",
    ",'collection_recovery_fee','last_pymnt_d','last_pymnt_amnt','last_credit_pull_d'\n",
    ",'collections_12_mths_ex_med','policy_code','application_type','acc_now_delinq'\n",
    ",'chargeoff_within_12_mths','delinq_amnt','pub_rec_bankruptcies','tax_liens'\n",
    ",'hardship_flag','debt_settlement_flag']\n",
    "len(col_list_jovain)"
   ]
  },
  {
   "cell_type": "code",
   "execution_count": 23,
   "id": "6a1013ac",
   "metadata": {},
   "outputs": [
    {
     "data": {
      "text/plain": [
       "array([6])"
      ]
     },
     "execution_count": 23,
     "metadata": {},
     "output_type": "execute_result"
    }
   ],
   "source": [
    "list1 = [1,2,3,4]\n",
    "list2 = [6]\n",
    "np.setdiff1d(list2,list1)"
   ]
  },
  {
   "cell_type": "code",
   "execution_count": 24,
   "id": "58881579",
   "metadata": {},
   "outputs": [
    {
     "data": {
      "text/plain": [
       "array([], dtype='<U26')"
      ]
     },
     "execution_count": 24,
     "metadata": {},
     "output_type": "execute_result"
    }
   ],
   "source": [
    "np.setdiff1d(col_list_jovain,columns_all)"
   ]
  },
  {
   "cell_type": "code",
   "execution_count": 32,
   "id": "156eb3bc",
   "metadata": {},
   "outputs": [
    {
     "name": "stdout",
     "output_type": "stream",
     "text": [
      "True\n",
      "False\n",
      "False\n"
     ]
    }
   ],
   "source": [
    "a = 'debt_settlement_flag_date'\n",
    "print(a in columns_list)\n",
    "print(a in col_list_jovain)\n",
    "print(a in (columns_list and col_list_jovain))"
   ]
  },
  {
   "cell_type": "code",
   "execution_count": 8,
   "id": "2eb0116f",
   "metadata": {},
   "outputs": [
    {
     "name": "stdout",
     "output_type": "stream",
     "text": [
      "['debt_settlement_flag_date' 'fico_range_high' 'fico_range_low'\n",
      " 'last_fico_range_high' 'last_fico_range_low' 'tot_coll_amt' 'tot_cur_bal'\n",
      " 'verification_status_joint']\n",
      "8\n"
     ]
    }
   ],
   "source": [
    "diff = np.setdiff1d(columns_list,col_list_jovain)\n",
    "print(diff)\n",
    "print(len(diff))"
   ]
  },
  {
   "cell_type": "code",
   "execution_count": null,
   "id": "67ef97e0",
   "metadata": {},
   "outputs": [],
   "source": []
  },
  {
   "cell_type": "code",
   "execution_count": 38,
   "id": "0a8ea64a",
   "metadata": {},
   "outputs": [
    {
     "data": {
      "text/plain": [
       "array(['loan_amnt', 'funded_amnt', 'funded_amnt_inv', 'term', 'int_rate',\n",
       "       'installment', 'grade', 'sub_grade', 'emp_title', 'emp_length',\n",
       "       'home_ownership', 'annual_inc', 'verification_status', 'issue_d',\n",
       "       'loan_status', 'pymnt_plan', 'desc', 'purpose', 'title',\n",
       "       'zip_code', 'addr_state', 'dti', 'delinq_2yrs', 'earliest_cr_line',\n",
       "       'inq_last_6mths', 'open_acc', 'pub_rec', 'revol_bal', 'revol_util',\n",
       "       'total_acc', 'initial_list_status', 'out_prncp', 'out_prncp_inv',\n",
       "       'total_pymnt', 'total_pymnt_inv', 'total_rec_prncp',\n",
       "       'total_rec_int', 'total_rec_late_fee', 'recoveries',\n",
       "       'collection_recovery_fee', 'last_pymnt_d', 'last_pymnt_amnt',\n",
       "       'last_credit_pull_d', 'collections_12_mths_ex_med', 'policy_code',\n",
       "       'application_type', 'acc_now_delinq', 'chargeoff_within_12_mths',\n",
       "       'delinq_amnt', 'pub_rec_bankruptcies', 'tax_liens',\n",
       "       'hardship_flag', 'debt_settlement_flag',\n",
       "       'debt_settlement_flag_date', 'fico_range_high', 'fico_range_low',\n",
       "       'last_fico_range_high', 'last_fico_range_low', 'tot_coll_amt',\n",
       "       'tot_cur_bal', 'verification_status_joint'], dtype='<U26')"
      ]
     },
     "execution_count": 38,
     "metadata": {},
     "output_type": "execute_result"
    }
   ],
   "source": [
    "col_final = np.append(col_list_jovain,diff)\n",
    "col_final"
   ]
  },
  {
   "cell_type": "code",
   "execution_count": 36,
   "id": "22c647b7",
   "metadata": {},
   "outputs": [
    {
     "data": {
      "text/plain": [
       "61"
      ]
     },
     "execution_count": 36,
     "metadata": {},
     "output_type": "execute_result"
    }
   ],
   "source": [
    "len(col_final)"
   ]
  }
 ],
 "metadata": {
  "kernelspec": {
   "display_name": "Python 3 (ipykernel)",
   "language": "python",
   "name": "python3"
  },
  "language_info": {
   "codemirror_mode": {
    "name": "ipython",
    "version": 3
   },
   "file_extension": ".py",
   "mimetype": "text/x-python",
   "name": "python",
   "nbconvert_exporter": "python",
   "pygments_lexer": "ipython3",
   "version": "3.9.15"
  }
 },
 "nbformat": 4,
 "nbformat_minor": 5
}
